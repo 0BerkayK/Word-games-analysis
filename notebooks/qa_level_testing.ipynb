{
 "cells": [
  {
   "cell_type": "code",
   "execution_count": 1,
   "id": "da085fb1-5f7f-4137-a5cb-56e43175957c",
   "metadata": {},
   "outputs": [],
   "source": [
    "import pandas as pd\n",
    "\n",
    "levels = pd.read_csv(\"../data/levels.csv\")\n",
    "sessions = pd.read_csv(\"../data/player_session.csv\")"
   ]
  },
  {
   "cell_type": "markdown",
   "id": "029e18d5-2236-476c-bfab-fd706870c3ea",
   "metadata": {},
   "source": [
    "### Letter Count Error Detection"
   ]
  },
  {
   "cell_type": "code",
   "execution_count": 2,
   "id": "630b55b7-bdf0-4626-a29f-8a92102f9d13",
   "metadata": {},
   "outputs": [
    {
     "data": {
      "text/html": [
       "<div>\n",
       "<style scoped>\n",
       "    .dataframe tbody tr th:only-of-type {\n",
       "        vertical-align: middle;\n",
       "    }\n",
       "\n",
       "    .dataframe tbody tr th {\n",
       "        vertical-align: top;\n",
       "    }\n",
       "\n",
       "    .dataframe thead th {\n",
       "        text-align: right;\n",
       "    }\n",
       "</style>\n",
       "<table border=\"1\" class=\"dataframe\">\n",
       "  <thead>\n",
       "    <tr style=\"text-align: right;\">\n",
       "      <th></th>\n",
       "      <th>level_id</th>\n",
       "      <th>target_word</th>\n",
       "      <th>difficulty</th>\n",
       "      <th>letter_count</th>\n",
       "      <th>estimated_duration_sec</th>\n",
       "      <th>difficulty_score</th>\n",
       "    </tr>\n",
       "  </thead>\n",
       "  <tbody>\n",
       "  </tbody>\n",
       "</table>\n",
       "</div>"
      ],
      "text/plain": [
       "Empty DataFrame\n",
       "Columns: [level_id, target_word, difficulty, letter_count, estimated_duration_sec, difficulty_score]\n",
       "Index: []"
      ]
     },
     "execution_count": 2,
     "metadata": {},
     "output_type": "execute_result"
    }
   ],
   "source": [
    "letter_count_mismatch = levels[levels[\"letter_count\"] != levels[\"target_word\"].str.len()]\n",
    "letter_count_mismatch\n"
   ]
  },
  {
   "cell_type": "markdown",
   "id": "6d40473e-5c1c-402e-ac03-766909dddd27",
   "metadata": {},
   "source": [
    "There are no letter_count errors in any words"
   ]
  },
  {
   "cell_type": "markdown",
   "id": "72ca7449-6a4f-4d7c-9234-e0645cda7fa8",
   "metadata": {},
   "source": [
    "### Duplicated Target Words"
   ]
  },
  {
   "cell_type": "code",
   "execution_count": 5,
   "id": "e57cd21e-a425-464d-a26d-ac6a4d4e4964",
   "metadata": {},
   "outputs": [
    {
     "data": {
      "text/html": [
       "<div>\n",
       "<style scoped>\n",
       "    .dataframe tbody tr th:only-of-type {\n",
       "        vertical-align: middle;\n",
       "    }\n",
       "\n",
       "    .dataframe tbody tr th {\n",
       "        vertical-align: top;\n",
       "    }\n",
       "\n",
       "    .dataframe thead th {\n",
       "        text-align: right;\n",
       "    }\n",
       "</style>\n",
       "<table border=\"1\" class=\"dataframe\">\n",
       "  <thead>\n",
       "    <tr style=\"text-align: right;\">\n",
       "      <th></th>\n",
       "      <th>level_id</th>\n",
       "      <th>target_word</th>\n",
       "      <th>difficulty</th>\n",
       "      <th>letter_count</th>\n",
       "      <th>estimated_duration_sec</th>\n",
       "      <th>difficulty_score</th>\n",
       "    </tr>\n",
       "  </thead>\n",
       "  <tbody>\n",
       "  </tbody>\n",
       "</table>\n",
       "</div>"
      ],
      "text/plain": [
       "Empty DataFrame\n",
       "Columns: [level_id, target_word, difficulty, letter_count, estimated_duration_sec, difficulty_score]\n",
       "Index: []"
      ]
     },
     "execution_count": 5,
     "metadata": {},
     "output_type": "execute_result"
    }
   ],
   "source": [
    "duplicates = levels[levels.duplicated(\"target_word\", keep=False)]\n",
    "duplicates.sort_values(\"target_word\")"
   ]
  },
  {
   "cell_type": "markdown",
   "id": "b10462b1-a32e-4515-be8d-63365f4dc15d",
   "metadata": {},
   "source": [
    "There are no duplicated target_word in any words"
   ]
  },
  {
   "cell_type": "markdown",
   "id": "5292fed2-7eba-48df-aeed-6eec68e18922",
   "metadata": {},
   "source": [
    "### Difficulty Score and Tag Compatibility"
   ]
  },
  {
   "cell_type": "code",
   "execution_count": 9,
   "id": "8a8cc7c3-0d24-419a-bddb-2be81cc0a0a3",
   "metadata": {},
   "outputs": [
    {
     "data": {
      "text/html": [
       "<div>\n",
       "<style scoped>\n",
       "    .dataframe tbody tr th:only-of-type {\n",
       "        vertical-align: middle;\n",
       "    }\n",
       "\n",
       "    .dataframe tbody tr th {\n",
       "        vertical-align: top;\n",
       "    }\n",
       "\n",
       "    .dataframe thead th {\n",
       "        text-align: right;\n",
       "    }\n",
       "</style>\n",
       "<table border=\"1\" class=\"dataframe\">\n",
       "  <thead>\n",
       "    <tr style=\"text-align: right;\">\n",
       "      <th></th>\n",
       "      <th>level_id</th>\n",
       "      <th>target_word</th>\n",
       "      <th>difficulty</th>\n",
       "      <th>letter_count</th>\n",
       "      <th>estimated_duration_sec</th>\n",
       "      <th>difficulty_score</th>\n",
       "    </tr>\n",
       "  </thead>\n",
       "  <tbody>\n",
       "  </tbody>\n",
       "</table>\n",
       "</div>"
      ],
      "text/plain": [
       "Empty DataFrame\n",
       "Columns: [level_id, target_word, difficulty, letter_count, estimated_duration_sec, difficulty_score]\n",
       "Index: []"
      ]
     },
     "execution_count": 9,
     "metadata": {},
     "output_type": "execute_result"
    }
   ],
   "source": [
    "inconsistent_easy = levels[\n",
    "    (levels[\"difficulty\"] == \"Easy\") & (levels[\"difficulty_score\"] > 0.5)\n",
    "]\n",
    "inconsistent_easy\n"
   ]
  },
  {
   "cell_type": "markdown",
   "id": "7d3efe48-0542-4a6a-923f-3a29754ce643",
   "metadata": {},
   "source": [
    "### Long Completion Time on Easy Levels"
   ]
  },
  {
   "cell_type": "code",
   "execution_count": 10,
   "id": "bd1d6a2f-60b5-49d7-b4c0-f99f52760c42",
   "metadata": {},
   "outputs": [
    {
     "data": {
      "text/html": [
       "<div>\n",
       "<style scoped>\n",
       "    .dataframe tbody tr th:only-of-type {\n",
       "        vertical-align: middle;\n",
       "    }\n",
       "\n",
       "    .dataframe tbody tr th {\n",
       "        vertical-align: top;\n",
       "    }\n",
       "\n",
       "    .dataframe thead th {\n",
       "        text-align: right;\n",
       "    }\n",
       "</style>\n",
       "<table border=\"1\" class=\"dataframe\">\n",
       "  <thead>\n",
       "    <tr style=\"text-align: right;\">\n",
       "      <th></th>\n",
       "      <th>level_id</th>\n",
       "      <th>target_word</th>\n",
       "      <th>completion_time_sec</th>\n",
       "      <th>player_id</th>\n",
       "    </tr>\n",
       "  </thead>\n",
       "  <tbody>\n",
       "    <tr>\n",
       "      <th>4</th>\n",
       "      <td>0</td>\n",
       "      <td>CAT</td>\n",
       "      <td>85.0</td>\n",
       "      <td>player_013</td>\n",
       "    </tr>\n",
       "    <tr>\n",
       "      <th>5</th>\n",
       "      <td>0</td>\n",
       "      <td>CAT</td>\n",
       "      <td>78.0</td>\n",
       "      <td>player_021</td>\n",
       "    </tr>\n",
       "    <tr>\n",
       "      <th>6</th>\n",
       "      <td>0</td>\n",
       "      <td>CAT</td>\n",
       "      <td>78.0</td>\n",
       "      <td>player_024</td>\n",
       "    </tr>\n",
       "    <tr>\n",
       "      <th>7</th>\n",
       "      <td>0</td>\n",
       "      <td>CAT</td>\n",
       "      <td>82.0</td>\n",
       "      <td>player_025</td>\n",
       "    </tr>\n",
       "    <tr>\n",
       "      <th>10</th>\n",
       "      <td>0</td>\n",
       "      <td>CAT</td>\n",
       "      <td>87.0</td>\n",
       "      <td>player_030</td>\n",
       "    </tr>\n",
       "    <tr>\n",
       "      <th>...</th>\n",
       "      <td>...</td>\n",
       "      <td>...</td>\n",
       "      <td>...</td>\n",
       "      <td>...</td>\n",
       "    </tr>\n",
       "    <tr>\n",
       "      <th>330</th>\n",
       "      <td>9</td>\n",
       "      <td>WIND</td>\n",
       "      <td>82.0</td>\n",
       "      <td>player_039</td>\n",
       "    </tr>\n",
       "    <tr>\n",
       "      <th>333</th>\n",
       "      <td>9</td>\n",
       "      <td>WIND</td>\n",
       "      <td>85.0</td>\n",
       "      <td>player_059</td>\n",
       "    </tr>\n",
       "    <tr>\n",
       "      <th>341</th>\n",
       "      <td>9</td>\n",
       "      <td>WIND</td>\n",
       "      <td>85.0</td>\n",
       "      <td>player_075</td>\n",
       "    </tr>\n",
       "    <tr>\n",
       "      <th>342</th>\n",
       "      <td>9</td>\n",
       "      <td>WIND</td>\n",
       "      <td>89.0</td>\n",
       "      <td>player_076</td>\n",
       "    </tr>\n",
       "    <tr>\n",
       "      <th>344</th>\n",
       "      <td>9</td>\n",
       "      <td>WIND</td>\n",
       "      <td>76.0</td>\n",
       "      <td>player_078</td>\n",
       "    </tr>\n",
       "  </tbody>\n",
       "</table>\n",
       "<p>85 rows × 4 columns</p>\n",
       "</div>"
      ],
      "text/plain": [
       "     level_id target_word  completion_time_sec   player_id\n",
       "4           0         CAT                 85.0  player_013\n",
       "5           0         CAT                 78.0  player_021\n",
       "6           0         CAT                 78.0  player_024\n",
       "7           0         CAT                 82.0  player_025\n",
       "10          0         CAT                 87.0  player_030\n",
       "..        ...         ...                  ...         ...\n",
       "330         9        WIND                 82.0  player_039\n",
       "333         9        WIND                 85.0  player_059\n",
       "341         9        WIND                 85.0  player_075\n",
       "342         9        WIND                 89.0  player_076\n",
       "344         9        WIND                 76.0  player_078\n",
       "\n",
       "[85 rows x 4 columns]"
      ]
     },
     "execution_count": 10,
     "metadata": {},
     "output_type": "execute_result"
    }
   ],
   "source": [
    "merged = pd.merge(levels, sessions, on=\"level_id\")\n",
    "long_easy_levels = merged[\n",
    "    (merged[\"difficulty\"] == \"Easy\") & (merged[\"completion_time_sec\"] > 70)\n",
    "]\n",
    "long_easy_levels[[\"level_id\", \"target_word\", \"completion_time_sec\", \"player_id\"]]\n"
   ]
  },
  {
   "cell_type": "markdown",
   "id": "bc112192-605a-466e-979a-3f481a51c43d",
   "metadata": {},
   "source": [
    "### Results"
   ]
  },
  {
   "cell_type": "raw",
   "id": "9fb5f8b2-cb1e-4242-952a-b9320e8d4f34",
   "metadata": {},
   "source": [
    "Number of letter_count levels that need correction: 0\n",
    "\n",
    "Number of duplicated words: 0\n",
    "\n",
    "Number of easy levels with a high difficulty score: 0\n",
    "\n",
    "Number of easy levels with a long average solution time: 85"
   ]
  }
 ],
 "metadata": {
  "kernelspec": {
   "display_name": "Python 3 (ipykernel)",
   "language": "python",
   "name": "python3"
  },
  "language_info": {
   "codemirror_mode": {
    "name": "ipython",
    "version": 3
   },
   "file_extension": ".py",
   "mimetype": "text/x-python",
   "name": "python",
   "nbconvert_exporter": "python",
   "pygments_lexer": "ipython3",
   "version": "3.12.7"
  }
 },
 "nbformat": 4,
 "nbformat_minor": 5
}
