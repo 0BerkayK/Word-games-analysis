{
 "cells": [
  {
   "cell_type": "code",
   "execution_count": 2,
   "id": "d4004f80-d203-4530-818a-9762228c88cd",
   "metadata": {},
   "outputs": [],
   "source": [
    "import pandas as pd\n",
    "\n",
    "levels = pd.read_csv(\"../data/levels.csv\")\n",
    "sessions = pd.read_csv(\"../data/player_session.csv\")"
   ]
  },
  {
   "cell_type": "code",
   "execution_count": 3,
   "id": "ceb77e1b-efa0-4021-be63-71f07af13f2e",
   "metadata": {},
   "outputs": [],
   "source": [
    "# Tamamlanma oranı hesaplama\n",
    "completion_stats = sessions.groupby(\"level_id\").agg(\n",
    "    total_plays=(\"player_id\", \"count\"),\n",
    "    completions=(\"completed\", \"sum\"),\n",
    "    avg_completion_time=(\"completion_time_sec\", \"mean\")\n",
    ").reset_index()"
   ]
  },
  {
   "cell_type": "code",
   "execution_count": 4,
   "id": "0e3736d7-d2c9-4d60-982b-6f2313eafcf6",
   "metadata": {},
   "outputs": [],
   "source": [
    "completion_stats[\"completion_rate\"] = completion_stats[\"completions\"] / completion_stats[\"total_plays\"]"
   ]
  },
  {
   "cell_type": "code",
   "execution_count": 5,
   "id": "25b13579-c50b-4a2c-bc5f-388db2dd125f",
   "metadata": {},
   "outputs": [
    {
     "data": {
      "text/html": [
       "<div>\n",
       "<style scoped>\n",
       "    .dataframe tbody tr th:only-of-type {\n",
       "        vertical-align: middle;\n",
       "    }\n",
       "\n",
       "    .dataframe tbody tr th {\n",
       "        vertical-align: top;\n",
       "    }\n",
       "\n",
       "    .dataframe thead th {\n",
       "        text-align: right;\n",
       "    }\n",
       "</style>\n",
       "<table border=\"1\" class=\"dataframe\">\n",
       "  <thead>\n",
       "    <tr style=\"text-align: right;\">\n",
       "      <th></th>\n",
       "      <th>level_id</th>\n",
       "      <th>target_word</th>\n",
       "      <th>difficulty</th>\n",
       "      <th>letter_count</th>\n",
       "      <th>estimated_duration_sec</th>\n",
       "      <th>difficulty_score</th>\n",
       "      <th>total_plays</th>\n",
       "      <th>completions</th>\n",
       "      <th>avg_completion_time</th>\n",
       "      <th>completion_rate</th>\n",
       "    </tr>\n",
       "  </thead>\n",
       "  <tbody>\n",
       "    <tr>\n",
       "      <th>0</th>\n",
       "      <td>0</td>\n",
       "      <td>CAT</td>\n",
       "      <td>Easy</td>\n",
       "      <td>3</td>\n",
       "      <td>39</td>\n",
       "      <td>0.26</td>\n",
       "      <td>33</td>\n",
       "      <td>33</td>\n",
       "      <td>54.909091</td>\n",
       "      <td>1.000000</td>\n",
       "    </tr>\n",
       "    <tr>\n",
       "      <th>1</th>\n",
       "      <td>1</td>\n",
       "      <td>SUN</td>\n",
       "      <td>Easy</td>\n",
       "      <td>3</td>\n",
       "      <td>40</td>\n",
       "      <td>0.30</td>\n",
       "      <td>38</td>\n",
       "      <td>31</td>\n",
       "      <td>57.677419</td>\n",
       "      <td>0.815789</td>\n",
       "    </tr>\n",
       "    <tr>\n",
       "      <th>2</th>\n",
       "      <td>2</td>\n",
       "      <td>MOON</td>\n",
       "      <td>Easy</td>\n",
       "      <td>4</td>\n",
       "      <td>28</td>\n",
       "      <td>0.10</td>\n",
       "      <td>31</td>\n",
       "      <td>28</td>\n",
       "      <td>55.678571</td>\n",
       "      <td>0.903226</td>\n",
       "    </tr>\n",
       "    <tr>\n",
       "      <th>3</th>\n",
       "      <td>3</td>\n",
       "      <td>DOG</td>\n",
       "      <td>Easy</td>\n",
       "      <td>3</td>\n",
       "      <td>40</td>\n",
       "      <td>0.16</td>\n",
       "      <td>38</td>\n",
       "      <td>32</td>\n",
       "      <td>60.031250</td>\n",
       "      <td>0.842105</td>\n",
       "    </tr>\n",
       "    <tr>\n",
       "      <th>4</th>\n",
       "      <td>4</td>\n",
       "      <td>TREE</td>\n",
       "      <td>Easy</td>\n",
       "      <td>4</td>\n",
       "      <td>33</td>\n",
       "      <td>0.27</td>\n",
       "      <td>27</td>\n",
       "      <td>26</td>\n",
       "      <td>53.230769</td>\n",
       "      <td>0.962963</td>\n",
       "    </tr>\n",
       "  </tbody>\n",
       "</table>\n",
       "</div>"
      ],
      "text/plain": [
       "   level_id target_word difficulty  letter_count  estimated_duration_sec  \\\n",
       "0         0         CAT       Easy             3                      39   \n",
       "1         1         SUN       Easy             3                      40   \n",
       "2         2        MOON       Easy             4                      28   \n",
       "3         3         DOG       Easy             3                      40   \n",
       "4         4        TREE       Easy             4                      33   \n",
       "\n",
       "   difficulty_score  total_plays  completions  avg_completion_time  \\\n",
       "0              0.26           33           33            54.909091   \n",
       "1              0.30           38           31            57.677419   \n",
       "2              0.10           31           28            55.678571   \n",
       "3              0.16           38           32            60.031250   \n",
       "4              0.27           27           26            53.230769   \n",
       "\n",
       "   completion_rate  \n",
       "0         1.000000  \n",
       "1         0.815789  \n",
       "2         0.903226  \n",
       "3         0.842105  \n",
       "4         0.962963  "
      ]
     },
     "execution_count": 5,
     "metadata": {},
     "output_type": "execute_result"
    }
   ],
   "source": [
    "merged = pd.merge(levels, completion_stats, on=\"level_id\")\n",
    "merged.head()"
   ]
  },
  {
   "cell_type": "markdown",
   "id": "4fb7bdf5-2bf9-4da0-bb04-4b4aaedab084",
   "metadata": {},
   "source": [
    "### Difficulty Score vs. Completion Rate"
   ]
  },
  {
   "cell_type": "code",
   "execution_count": 6,
   "id": "b05c3456-18f5-4594-8c16-09859c662c2d",
   "metadata": {},
   "outputs": [
    {
     "data": {
      "image/png": "[encoded data removed]",
      "text/plain": [
       "<Figure size 800x500 with 1 Axes>"
      ]
     },
     "metadata": {},
     "output_type": "display_data"
    }
   ],
   "source": [
    "import seaborn as sns\n",
    "import matplotlib.pyplot as plt\n",
    "\n",
    "plt.figure(figsize=(8, 5))\n",
    "sns.scatterplot(data=merged, x=\"difficulty_score\", y=\"completion_rate\")\n",
    "plt.title(\"Difficulty Score vs Completion Rate\")\n",
    "plt.xlabel(\"Difficulty Score\")\n",
    "plt.ylabel(\"Completion Rate\")\n",
    "plt.grid(True)\n",
    "plt.show()\n"
   ]
  },
  {
   "cell_type": "raw",
   "id": "ed33dea4-8145-4b23-9107-eddadbd63183",
   "metadata": {},
   "source": [
    "🔎 Comment:\n",
    "\n",
    "If the difficulty score is high but the completion rate is very low, these levels are at risk of drop-off.\n",
    "\n",
    "If the difficulty estimate does not match the player's success, the level design should be revised."
   ]
  },
  {
   "cell_type": "markdown",
   "id": "2a3e9851-3f9a-4488-a8de-19cb07a12fa2",
   "metadata": {},
   "source": [
    "### Determination of Drop-off Levels"
   ]
  },
  {
   "cell_type": "code",
   "execution_count": 13,
   "id": "700a869f-4468-41b9-989d-66b1ea28ae38",
   "metadata": {},
   "outputs": [
    {
     "name": "stdout",
     "output_type": "stream",
     "text": [
      "Medyan completion_rate: 0.88\n"
     ]
    }
   ],
   "source": [
    "median_completion = merged[\"completion_rate\"].median()\n",
    "print(f\"Medyan completion_rate: {median_completion:.2f}\")\n"
   ]
  },
  {
   "cell_type": "code",
   "execution_count": 15,
   "id": "14fcdda3-3d28-4852-925d-6b6013a3f683",
   "metadata": {},
   "outputs": [],
   "source": [
    "# if completion_rate < 0.88 = drop-off\n",
    "dropoff_levels = merged[merged[\"completion_rate\"] < median_completion].sort_values(\"completion_rate\")"
   ]
  },
  {
   "cell_type": "code",
   "execution_count": 16,
   "id": "0e08a89d-3361-4cc6-870c-ce010ba51946",
   "metadata": {},
   "outputs": [
    {
     "name": "stdout",
     "output_type": "stream",
     "text": [
      "    level_id target_word difficulty  difficulty_score  completion_rate  \\\n",
      "11        11      STREAM     Medium              0.41         0.756098   \n",
      "21        21      WIZARD       Hard              0.79         0.766667   \n",
      "29        29     EQUATOR       Hard              0.86         0.774194   \n",
      "27        27     MYSTERY       Hard              0.89         0.785714   \n",
      "28        28    GULLIVER       Hard              0.87         0.810811   \n",
      "1          1         SUN       Easy              0.30         0.815789   \n",
      "17        17      WINDOW     Medium              0.48         0.823529   \n",
      "25        25      ZEPHYR       Hard              0.71         0.825000   \n",
      "6          6        BOOK       Easy              0.25         0.828571   \n",
      "8          8        ROAD       Easy              0.26         0.833333   \n",
      "9          9        WIND       Easy              0.22         0.833333   \n",
      "3          3         DOG       Easy              0.16         0.842105   \n",
      "13        13      PYTHON     Medium              0.52         0.852941   \n",
      "24        24     QUIZZES       Hard              0.83         0.864865   \n",
      "7          7        STAR       Easy              0.10         0.880952   \n",
      "\n",
      "    avg_completion_time  \n",
      "11            56.935484  \n",
      "21            54.565217  \n",
      "29            51.625000  \n",
      "27            62.045455  \n",
      "28            58.966667  \n",
      "1             57.677419  \n",
      "17            48.428571  \n",
      "25            55.969697  \n",
      "6             54.034483  \n",
      "8             55.233333  \n",
      "9             54.033333  \n",
      "3             60.031250  \n",
      "13            58.896552  \n",
      "24            53.312500  \n",
      "7             55.648649  \n"
     ]
    }
   ],
   "source": [
    "dropoff_levels_display = dropoff_levels[[\n",
    "    \"level_id\", \"target_word\", \"difficulty\", \"difficulty_score\", \"completion_rate\", \"avg_completion_time\"\n",
    "]]\n",
    "\n",
    "print(dropoff_levels_display)"
   ]
  },
  {
   "cell_type": "raw",
   "id": "b2d7d37c-6997-4d57-aff1-873901f6274e",
   "metadata": {},
   "source": [
    "For levels with a low success rate and a high difficulty score: \"Make Easier\"\n",
    "\n",
    "Conversely, for levels with a very high success rate and a low difficulty score: \"Make Harder\"\n",
    "\n",
    "For other levels: \"OK\" (Good)"
   ]
  },
  {
   "cell_type": "markdown",
   "id": "f9c1b6f3-773a-4d4f-9c5d-8d41848e60b6",
   "metadata": {},
   "source": [
    "### Tuning Suggestions"
   ]
  },
  {
   "cell_type": "code",
   "execution_count": 21,
   "id": "1f250b90-0026-4309-be37-26b946a9c3ab",
   "metadata": {},
   "outputs": [
    {
     "name": "stdout",
     "output_type": "stream",
     "text": [
      "    level_id target_word  difficulty_score  completion_rate tuning_suggestion\n",
      "11        11      STREAM              0.41         0.756098                OK\n",
      "21        21      WIZARD              0.79         0.766667       Make Easier\n",
      "29        29     EQUATOR              0.86         0.774194       Make Easier\n",
      "27        27     MYSTERY              0.89         0.785714       Make Easier\n",
      "28        28    GULLIVER              0.87         0.810811       Make Easier\n",
      "1          1         SUN              0.30         0.815789                OK\n",
      "17        17      WINDOW              0.48         0.823529                OK\n",
      "25        25      ZEPHYR              0.71         0.825000       Make Easier\n",
      "6          6        BOOK              0.25         0.828571                OK\n",
      "8          8        ROAD              0.26         0.833333                OK\n",
      "9          9        WIND              0.22         0.833333                OK\n",
      "3          3         DOG              0.16         0.842105                OK\n",
      "13        13      PYTHON              0.52         0.852941                OK\n",
      "24        24     QUIZZES              0.83         0.864865       Make Easier\n",
      "7          7        STAR              0.10         0.880952                OK\n"
     ]
    }
   ],
   "source": [
    "def suggest_tuning(row):\n",
    "    if row[\"completion_rate\"] < median_completion and row[\"difficulty_score\"] > 0.6:\n",
    "        return \"Make Easier\"\n",
    "    elif row[\"completion_rate\"] > 0.9 and row[\"difficulty_score\"] < 0.3:\n",
    "        return \"Make Harder\"\n",
    "    else:\n",
    "        return \"OK\"\n",
    "\n",
    "merged[\"tuning_suggestion\"] = merged.apply(suggest_tuning, axis=1)\n",
    "\n",
    "# Drop-off seviyelerine göre filtreleyip inceleyelim\n",
    "dropoff_tuning = merged[merged[\"completion_rate\"] < median_completion][[\n",
    "    \"level_id\", \"target_word\", \"difficulty_score\", \"completion_rate\", \"tuning_suggestion\"\n",
    "]]\n",
    "\n",
    "print(dropoff_tuning.sort_values(\"completion_rate\"))\n"
   ]
  },
  {
   "cell_type": "code",
   "execution_count": null,
   "id": "bde821b7-0aa3-45b3-914a-c70c9c6e8266",
   "metadata": {},
   "outputs": [],
   "source": []
  }
 ],
 "metadata": {
  "kernelspec": {
   "display_name": "Python 3 (ipykernel)",
   "language": "python",
   "name": "python3"
  },
  "language_info": {
   "codemirror_mode": {
    "name": "ipython",
    "version": 3
   },
   "file_extension": ".py",
   "mimetype": "text/x-python",
   "name": "python",
   "nbconvert_exporter": "python",
   "pygments_lexer": "ipython3",
   "version": "3.12.7"
  }
 },
 "nbformat": 4,
 "nbformat_minor": 5
}
